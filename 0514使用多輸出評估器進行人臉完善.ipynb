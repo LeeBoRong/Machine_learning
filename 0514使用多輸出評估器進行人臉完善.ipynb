{
 "cells": [
  {
   "cell_type": "code",
   "execution_count": 28,
   "metadata": {},
   "outputs": [],
   "source": [
    "from sklearn import datasets\n",
    "import matplotlib.pyplot as plt\n",
    "data=datasets.fetch_olivetti_faces()\n",
    "\n",
    "#1\n",
    "#print(data.DESCR)\n",
    "#print(data.target)\n",
    "#print(data.data)\n",
    "\n",
    "#2\n",
    "#plt.imshow(data.images[0],cmap=\"gray\",interpolation=\"nearest\")\n",
    "#Gray 灰階\n",
    "#plt.show()\n",
    "\n",
    "#3把影像變成一列\n",
    "targets=data.target\n",
    "data=data.images.reshape(len(data.images),-1)\n",
    "#訓練資料30張臉(300張照片)，測試資料10張臉(100張圖片)\n",
    "train=data[target<30]\n",
    "test=data[target>=30]\n",
    "#從100張策是影像中，亂數抽5張出來，變數Test的大小變成(5,4096)\n",
    "n_face= 5\n",
    "from sklearn.utils import check_random_state\n",
    "rng = check_random_state(4)\n",
    "\n",
    "face_ids = rng.randint(test.shape[0],size=(n_face, ))\n",
    "test = test[face_ids, :]\n",
    "#把每張訓練影像和測試影像都切格成上下兩部分:X人臉上半部分\n",
    "n_pixels = data.shape[1]\n",
    "# Upper half of the faces\n",
    "X_train = train[:, :(n_pixels + 1) // 2]\n",
    "# Lower half of the faces\n",
    "y_train = train[:, n_pixels // 2:]\n",
    "X_test = test[:, :(n_pixels + 1) // 2]\n",
    "y_test = test[:, n_pixels // 2:]\n",
    "#決定預測的演算法 這次用LinearRegression\n",
    "from sklearn.ensemble import ExtraTreesRegressor\n",
    "from sklearn.neighbors import KNeighborsRegressor\n",
    "from sklearn.linear_model import LinearRegression\n",
    "from sklearn.linear_model import RidgeCV\n",
    "\n",
    "\n",
    "ESTIMATORS = {\n",
    "    \"Extra trees\": ExtraTreesRegressor(n_estimators=10, max_features=32, random_state=0),\n",
    "    \"K-nn\": KNeighborsRegressor(),\n",
    "    \"Linear regression\": LinearRegression(),\n",
    "    \"Ridge\": RidgeCV(),}\n",
    "y_test_predict = dict()"
   ]
  },
  {
   "cell_type": "code",
   "execution_count": null,
   "metadata": {},
   "outputs": [],
   "source": []
  },
  {
   "cell_type": "code",
   "execution_count": null,
   "metadata": {},
   "outputs": [],
   "source": []
  },
  {
   "cell_type": "code",
   "execution_count": null,
   "metadata": {},
   "outputs": [],
   "source": []
  },
  {
   "cell_type": "code",
   "execution_count": null,
   "metadata": {},
   "outputs": [],
   "source": []
  }
 ],
 "metadata": {
  "kernelspec": {
   "display_name": "Python 3",
   "language": "python",
   "name": "python3"
  },
  "language_info": {
   "codemirror_mode": {
    "name": "ipython",
    "version": 3
   },
   "file_extension": ".py",
   "mimetype": "text/x-python",
   "name": "python",
   "nbconvert_exporter": "python",
   "pygments_lexer": "ipython3",
   "version": "3.6.4"
  }
 },
 "nbformat": 4,
 "nbformat_minor": 2
}
